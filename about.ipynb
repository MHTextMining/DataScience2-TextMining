{
  "cells": [
    {
      "cell_type": "raw",
      "metadata": {},
      "source": [
        "---\n",
        "title: \"About\"\n",
        "---"
      ],
      "id": "8d5cad52"
    },
    {
      "cell_type": "markdown",
      "metadata": {},
      "source": [
        "Der hier vorliegende Blog wurde erstellt von Markus Häfner in dem Modul Data Science 2 unter Prof. Dr. habil. Sebastian Sauer\n",
        "\n",
        "\n",
        ":::{.callout-important}\n",
        "Note that there are five types of callouts, including: \n",
        "`note`, `tip`, `warning`, `caution`, and `important`.\n",
        ":::\n"
      ],
      "id": "dbd715f9"
    },
    {
      "cell_type": "code",
      "metadata": {},
      "source": [
        "#| label: tbl-planet-measures\n",
        "#| tbl-cap: Planets\n",
        "\n",
        "from IPython.display import Markdown\n",
        "from tabulate import tabulate\n",
        "table = [[\"Sun\",696000,1989100000],\n",
        "         [\"Earth\",6371,5973.6],\n",
        "         [\"Moon\",1737,73.5],\n",
        "         [\"Mars\",3390,641.85]]\n",
        "Markdown(tabulate(\n",
        "  table, \n",
        "  headers=[\"Planet\",\"R (km)\", \"mass (x 10^29 kg)\"]\n",
        "))"
      ],
      "id": "tbl-planet-measures",
      "execution_count": null,
      "outputs": []
    }
  ],
  "metadata": {
    "kernelspec": {
      "display_name": "Python 3",
      "language": "python",
      "name": "python3"
    }
  },
  "nbformat": 4,
  "nbformat_minor": 5
}